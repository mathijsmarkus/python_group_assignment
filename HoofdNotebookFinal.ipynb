{
 "cells": [
  {
   "cell_type": "code",
   "execution_count": 1,
   "metadata": {},
   "outputs": [],
   "source": [
    "import geopandas as gpd\n",
    "import pandas as pd\n",
    "import urllib.request, json"
   ]
  },
  {
   "cell_type": "code",
   "execution_count": 7,
   "metadata": {},
   "outputs": [],
   "source": [
    "def api_request(stations, subscription_key):\n",
    "    '''This function makes an API request from the NS server and returns\n",
    "     the trajectories of the Dutch railway map.\n",
    "\n",
    "     Args:\n",
    "        stations (str): Two stations of which you want the trajectory in the form 'Station1,Station2'\n",
    "        subscription_key (str): An subscribtion key \n",
    "\n",
    "    Returns:\n",
    "        gdf (str): GeoDataFrame with lines between stations\n",
    "    '''\n",
    "    \n",
    "    url = f\"https://gateway.apiportal.ns.nl/Spoorkaart-API/api/v1/traject.geojson?stations={stations}\"\n",
    "    headers = {\n",
    "        'Cache-Control': 'no-cache',\n",
    "        'Ocp-Apim-Subscription-Key': subscription_key,\n",
    "    }\n",
    "\n",
    "    # Make the API request\n",
    "    try:\n",
    "        req = urllib.request.Request(url, headers=headers)\n",
    "        response = urllib.request.urlopen(req)\n",
    "        response_content = response.read().decode('utf-8')\n",
    "\n",
    "        # Load the response content into JSON\n",
    "        geojson_data = json.loads(response_content)\n",
    "\n",
    "        # Convert the GeoJSON data to a GeoDataFrame\n",
    "        gdf = gpd.GeoDataFrame.from_features(geojson_data['features'])\n",
    "\n",
    "        return gdf\n",
    "    except urllib.error.HTTPError as e:\n",
    "        print(f\"HTTPError: {e.code} - {e.reason}\")\n",
    "        return None\n",
    "    except Exception as e:\n",
    "        print(f\"Error: {e}\")\n",
    "        return None"
   ]
  },
  {
   "cell_type": "code",
   "execution_count": 10,
   "metadata": {},
   "outputs": [],
   "source": [
    "def travel_data(operators, seats_per_vehicle_type):\n",
    "    #   NS Bron aanpassen\n",
    "    # Inladen CSV en toevoegen kolommen voor Stoelen en Bezette stoelen\n",
    "    travel_data = pd.DataFrame()\n",
    "    for i in operators:\n",
    "        if i == 'Keolis':\n",
    "            Keolis = pd.read_csv('Keolis.csv', delimiter= ';')\n",
    "            travel_data = pd.concat([travel_data, Keolis], ignore_index=True)\n",
    "        elif i == 'Arriva':\n",
    "            Arriva = pd.read_csv('Arriva.csv')\n",
    "            travel_data = pd.concat([travel_data, Arriva], ignore_index=True)\n",
    "        elif i == 'Qbuzz':\n",
    "            Qbuzz = pd.read_csv('Qbuzz.csv')\n",
    "            travel_data = pd.concat([travel_data, Qbuzz], ignore_index=True)\n",
    "        elif i == 'NS':\n",
    "            NS = pd.read_csv('OC_NS_20241007.csv')\n",
    "            travel_data = pd.concat([travel_data, NS], ignore_index=True)\n",
    "        else:\n",
    "            return print(\"Operator not known, known operators: [Keolis, Arriva, NS, Qbuzz]\")\n",
    "    travel_data['Seats'] = 0\n",
    "\n",
    "    # Maar 1 week behouden dus 3 dagen weghalen uit de tabel\n",
    "    travel_data['OperatingDay'] = pd.to_datetime(travel_data['OperatingDay'])\n",
    "    dates_to_exclude = pd.to_datetime(['2024-10-14', '2024-10-15', '2024-10-16'])\n",
    "    df_filtered = travel_data[~travel_data['OperatingDay'].isin(dates_to_exclude)]\n",
    "    travel_data = df_filtered.reset_index(drop=True)\n",
    "\n",
    "    #treincodes boven 700000 aanpassen\n",
    "    for i in range(len(travel_data)):\n",
    "        if travel_data.loc[i, 'JourneyNumber'] > 700000:\n",
    "            travel_data.loc[i, 'JourneyNumber'] -= 700000\n",
    "\n",
    "    #treincode tussen 200000 en 700000 aanpassen\n",
    "    for i in range(len(travel_data)):\n",
    "        if 200000 < travel_data.loc[i, 'JourneyNumber'] < 700000:\n",
    "            travel_data.loc[i, 'JourneyNumber'] -= 200000\n",
    "            \n",
    "    return travel_data"
   ]
  },
  {
   "cell_type": "code",
   "execution_count": 8,
   "metadata": {},
   "outputs": [],
   "source": [
    "# function to assign a color to a number based on where in the range of numbers it lies\n",
    "def interpolate_color(lower_limit, upper_limit, lower_color, upper_color, number):\n",
    "    # Clamp the number between the lower and upper limit\n",
    "    number = max(min(number, upper_limit), lower_limit)\n",
    "    \n",
    "    # Calculate the interpolation factor\n",
    "    factor = (number - lower_limit) / (upper_limit - lower_limit)\n",
    "    \n",
    "    # Interpolate each RGB component\n",
    "    interpolated_color = tuple(\n",
    "        int(lower_component + (upper_component - lower_component) * factor)\n",
    "        for lower_component, upper_component in zip(lower_color, upper_color)\n",
    "    )\n",
    "    \n",
    "    #normalize the color for usage\n",
    "    color = [interpolated_color / 255.0 for interpolated_color in interpolated_color] \n",
    "\n",
    "    return color"
   ]
  },
  {
   "cell_type": "code",
   "execution_count": 9,
   "metadata": {},
   "outputs": [],
   "source": [
    "# function to make a dictionary with the seats form the transervices csv\n",
    "def seat_sorter(TrainServicesData, TrainTravelData):\n",
    "    # Inladen CSV's met alle NS treindiensten en de reizigers data\n",
    "    TrainServices = pd.read_csv(TrainServicesData, delimiter = ';')\n",
    "    \n",
    "\n",
    "    # Dictionary maken met per treinserie een dataframe met ieder stukje tussen stations er in\n",
    "    dataframes_dict = {}\n",
    "\n",
    "    TrainServices.loc[0,'Code']\n",
    "    TrainServices.loc[0,'String'].split(',')\n",
    "\n",
    "    for i in range(len(TrainServices)):\n",
    "        a = TrainServices.loc[i,'String'].split(',')\n",
    "        df = pd.DataFrame({'From':[],'To':[],'Seats':[]})\n",
    "        for j in range(len(a) - 1):\n",
    "            new_row = pd.DataFrame({'From': [a[j]], 'To': [a[j + 1]], 'Seats':[None]})\n",
    "            df = pd.concat([df, new_row], ignore_index=True)\n",
    "        dataframes_dict[TrainServices.loc[i,'Code']] = df\n",
    "\n",
    "        a = TrainServices.loc[i,'String'].split(',')\n",
    "        a = a[::-1]\n",
    "        df = pd.DataFrame({'From':[],'To':[],'Seats':[]})\n",
    "        for j in range(len(a) - 1):\n",
    "            new_row = pd.DataFrame({'From': [a[j]], 'To': [a[j + 1]], 'Seats':[None]})\n",
    "            df = pd.concat([df, new_row], ignore_index=True)\n",
    "        dataframes_dict[TrainServices.loc[i,'Code'] + 1] = df\n",
    "\n",
    "    # Dictionary vullen met stoel aantallen\n",
    "    for i in range(len(TrainTravelData)):\n",
    "        if TrainTravelData.loc[i, 'JourneyNumber'] % 2 != 0:\n",
    "            a = TrainTravelData.loc[i, 'JourneyNumber']//100\n",
    "            c = 0\n",
    "            for j in range(len(dataframes_dict[a*100+ 1])):\n",
    "                if TrainTravelData.loc[i, 'UserStopCodeBegin'].upper() == dataframes_dict[a*100+ 1].loc[j, 'From'].upper():\n",
    "                    c = 1\n",
    "                if c == 1:\n",
    "                    if dataframes_dict[a*100 + 1].loc[j, 'Seats'] == None:\n",
    "                        dataframes_dict[a*100+ 1].loc[j, 'Seats'] = TrainTravelData.loc[i, 'Seats']\n",
    "                    else:\n",
    "                        dataframes_dict[a*100+ 1].loc[j, 'Seats'] += TrainTravelData.loc[i, 'Seats']\n",
    "                if TrainTravelData.loc[i, 'UserStopCodeEnd'].upper() == dataframes_dict[a*100+ 1].loc[j, 'To'].upper():\n",
    "                    break\n",
    "\n",
    "        else:\n",
    "            a = TrainTravelData.loc[i, 'JourneyNumber']//100\n",
    "            c = 0\n",
    "            for j in range(len(dataframes_dict[a*100])):\n",
    "                if TrainTravelData.loc[i, 'UserStopCodeBegin'].upper() == dataframes_dict[a*100].loc[j, 'From'].upper():\n",
    "                    c = 1\n",
    "                if c == 1:\n",
    "                    if dataframes_dict[a*100].loc[j, 'Seats'] == None:\n",
    "                        dataframes_dict[a*100].loc[j, 'Seats'] = TrainTravelData.loc[i, 'Seats']\n",
    "                    else:\n",
    "                        dataframes_dict[a*100].loc[j, 'Seats'] += TrainTravelData.loc[i, 'Seats']\n",
    "                if TrainTravelData.loc[i, 'UserStopCodeEnd'].upper() == dataframes_dict[a*100].loc[j, 'To'].upper():\n",
    "                    break\n",
    "\n",
    "    return dataframes_dict"
   ]
  },
  {
   "cell_type": "code",
   "execution_count": 11,
   "metadata": {},
   "outputs": [],
   "source": [
    "def seats_per_trajectory(SortedSeats):\n",
    "    #de dataframe met totale aantal stoelen per stukje route maken\n",
    "    df = pd.DataFrame({'From':[],'To':[],'Seats':[]})\n",
    "\n",
    "    for i in SortedSeats.keys():\n",
    "        b = SortedSeats[i]\n",
    "        d = 0\n",
    "        c = 0\n",
    "        for j in range(len(b)):\n",
    "            if b.loc[j,'Seats'] == None:\n",
    "                continue\n",
    "            for k in range(len(df)):\n",
    "                if b.loc[j,'From'].upper() == df.loc[k, 'From'].upper() and b.loc[j,'To'].upper() == df.loc[k, 'To'].upper():\n",
    "                    c = 1\n",
    "                    d = k\n",
    "                    break\n",
    "                if b.loc[j,'To'].upper() == df.loc[k, 'From'].upper() and b.loc[j,'From'].upper() == df.loc[k, 'To'].upper():\n",
    "                    c = 1\n",
    "                    d = k\n",
    "                    break\n",
    "            if c == 1:\n",
    "                df.loc[d, 'Seats'] += b.loc[j,'Seats']\n",
    "                c = 0\n",
    "            else:\n",
    "                new_row = pd.DataFrame({'From': [b.loc[j,'From'].upper()], 'To': [b.loc[j,'To'].upper()], 'Seats':[b.loc[j,'Seats']]})\n",
    "                df = pd.concat([df, new_row], ignore_index=True)\n",
    "    return df"
   ]
  },
  {
   "cell_type": "code",
   "execution_count": 12,
   "metadata": {},
   "outputs": [],
   "source": [
    "def geometry_adder(df):    \n",
    "    # Prompt for the SubscriptionKey before starting the loop\n",
    "    SubscriptionKey = input('Please enter your SubscriptionKey: ')\n",
    "\n",
    "    geometry_data = []\n",
    "\n",
    "    for i in range(len(df)):\n",
    "        while True:\n",
    "            try:\n",
    "                # Make the API request\n",
    "                geodata = api_request(f'{df[\"From\"][i]},{df[\"To\"][i]}', SubscriptionKey)\n",
    "                \n",
    "                # If the API request is successful, add geometry data and break out of the loop\n",
    "                if geodata is not None:\n",
    "                    geometry_data.append(geodata['geometry'].iloc[0])\n",
    "                    print(f'{i+1}/{len(df)}', end=\"\\r\")\n",
    "                    break\n",
    "                else:\n",
    "                    # If the API fails, prompt for a new subscription key\n",
    "                    SubscriptionKey = input('Invalid SubscriptionKey. Please enter a new SubscriptionKey: ')\n",
    "            except Exception as e:\n",
    "                print(f\"An error occurred: {e}\")\n",
    "                SubscriptionKey = input('Error occurred. Please enter a new SubscriptionKey: ')\n",
    "\n",
    "    df['geometry'] = geometry_data\n",
    "    df = gpd.GeoDataFrame(df, geometry='geometry')\n",
    "    return df"
   ]
  },
  {
   "cell_type": "code",
   "execution_count": 13,
   "metadata": {},
   "outputs": [],
   "source": [
    "arriva = pd.read_csv('TravelDataArriva.csv')\n",
    "ns = pd.read_csv('TravelDataNS.csv')\n",
    "qbuzz = pd.read_csv('TravelDataQbuzz.csv')\n",
    "keolis = pd.read_csv('TravelDataKeolis.csv')\n",
    "all_operators = pd.read_csv('TravelData.csv')"
   ]
  },
  {
   "cell_type": "code",
   "execution_count": 32,
   "metadata": {},
   "outputs": [
    {
     "name": "stdout",
     "output_type": "stream",
     "text": [
      "2/3/274\r"
     ]
    },
    {
     "name": "stderr",
     "output_type": "stream",
     "text": [
      "C:\\Users\\thijs\\AppData\\Local\\Temp\\ipykernel_48224\\1554572862.py:36: FutureWarning: Setting an item of incompatible dtype is deprecated and will raise an error in a future version of pandas. Value '[1.0, 1.0, 0.0]' has dtype incompatible with int64, please explicitly cast to a compatible dtype first.\n",
      "  df.loc[h, 'color'] = str(interpolate_color(df['Seats'].min(), df['Seats'].max(), (255,255,0), (255,0,0), df.loc[h, 'Seats']))\n"
     ]
    },
    {
     "name": "stdout",
     "output_type": "stream",
     "text": [
      "403/403\r"
     ]
    },
    {
     "name": "stderr",
     "output_type": "stream",
     "text": [
      "C:\\Users\\thijs\\AppData\\Local\\Temp\\ipykernel_48224\\1554572862.py:36: FutureWarning: Setting an item of incompatible dtype is deprecated and will raise an error in a future version of pandas. Value '[1.0, 1.0, 0.0]' has dtype incompatible with int64, please explicitly cast to a compatible dtype first.\n",
      "  df.loc[h, 'color'] = str(interpolate_color(df['Seats'].min(), df['Seats'].max(), (255,255,0), (255,0,0), df.loc[h, 'Seats']))\n"
     ]
    },
    {
     "name": "stdout",
     "output_type": "stream",
     "text": [
      "2/8/430\r"
     ]
    },
    {
     "name": "stderr",
     "output_type": "stream",
     "text": [
      "C:\\Users\\thijs\\AppData\\Local\\Temp\\ipykernel_48224\\1554572862.py:36: FutureWarning: Setting an item of incompatible dtype is deprecated and will raise an error in a future version of pandas. Value '[1.0, 1.0, 0.0]' has dtype incompatible with int64, please explicitly cast to a compatible dtype first.\n",
      "  df.loc[h, 'color'] = str(interpolate_color(df['Seats'].min(), df['Seats'].max(), (255,255,0), (255,0,0), df.loc[h, 'Seats']))\n"
     ]
    },
    {
     "name": "stdout",
     "output_type": "stream",
     "text": [
      "2/3/255\r"
     ]
    },
    {
     "name": "stderr",
     "output_type": "stream",
     "text": [
      "C:\\Users\\thijs\\AppData\\Local\\Temp\\ipykernel_48224\\1554572862.py:36: FutureWarning: Setting an item of incompatible dtype is deprecated and will raise an error in a future version of pandas. Value '[1.0, 1.0, 0.0]' has dtype incompatible with int64, please explicitly cast to a compatible dtype first.\n",
      "  df.loc[h, 'color'] = str(interpolate_color(df['Seats'].min(), df['Seats'].max(), (255,255,0), (255,0,0), df.loc[h, 'Seats']))\n"
     ]
    },
    {
     "name": "stdout",
     "output_type": "stream",
     "text": [
      "3/3/388\r"
     ]
    },
    {
     "name": "stderr",
     "output_type": "stream",
     "text": [
      "C:\\Users\\thijs\\AppData\\Local\\Temp\\ipykernel_48224\\1554572862.py:36: FutureWarning: Setting an item of incompatible dtype is deprecated and will raise an error in a future version of pandas. Value '[1.0, 1.0, 0.0]' has dtype incompatible with int64, please explicitly cast to a compatible dtype first.\n",
      "  df.loc[h, 'color'] = str(interpolate_color(df['Seats'].min(), df['Seats'].max(), (255,255,0), (255,0,0), df.loc[h, 'Seats']))\n"
     ]
    },
    {
     "name": "stdout",
     "output_type": "stream",
     "text": [
      "3/8/420\r"
     ]
    },
    {
     "name": "stderr",
     "output_type": "stream",
     "text": [
      "C:\\Users\\thijs\\AppData\\Local\\Temp\\ipykernel_48224\\1554572862.py:36: FutureWarning: Setting an item of incompatible dtype is deprecated and will raise an error in a future version of pandas. Value '[1.0, 1.0, 0.0]' has dtype incompatible with int64, please explicitly cast to a compatible dtype first.\n",
      "  df.loc[h, 'color'] = str(interpolate_color(df['Seats'].min(), df['Seats'].max(), (255,255,0), (255,0,0), df.loc[h, 'Seats']))\n"
     ]
    },
    {
     "name": "stdout",
     "output_type": "stream",
     "text": [
      "2/3/255\r"
     ]
    },
    {
     "name": "stderr",
     "output_type": "stream",
     "text": [
      "C:\\Users\\thijs\\AppData\\Local\\Temp\\ipykernel_48224\\1554572862.py:36: FutureWarning: Setting an item of incompatible dtype is deprecated and will raise an error in a future version of pandas. Value '[1.0, 1.0, 0.0]' has dtype incompatible with int64, please explicitly cast to a compatible dtype first.\n",
      "  df.loc[h, 'color'] = str(interpolate_color(df['Seats'].min(), df['Seats'].max(), (255,255,0), (255,0,0), df.loc[h, 'Seats']))\n"
     ]
    },
    {
     "name": "stdout",
     "output_type": "stream",
     "text": [
      "3/3/388\r"
     ]
    },
    {
     "name": "stderr",
     "output_type": "stream",
     "text": [
      "C:\\Users\\thijs\\AppData\\Local\\Temp\\ipykernel_48224\\1554572862.py:36: FutureWarning: Setting an item of incompatible dtype is deprecated and will raise an error in a future version of pandas. Value '[1.0, 1.0, 0.0]' has dtype incompatible with int64, please explicitly cast to a compatible dtype first.\n",
      "  df.loc[h, 'color'] = str(interpolate_color(df['Seats'].min(), df['Seats'].max(), (255,255,0), (255,0,0), df.loc[h, 'Seats']))\n"
     ]
    },
    {
     "name": "stdout",
     "output_type": "stream",
     "text": [
      "4/8/420\r"
     ]
    },
    {
     "name": "stderr",
     "output_type": "stream",
     "text": [
      "C:\\Users\\thijs\\AppData\\Local\\Temp\\ipykernel_48224\\1554572862.py:36: FutureWarning: Setting an item of incompatible dtype is deprecated and will raise an error in a future version of pandas. Value '[1.0, 1.0, 0.0]' has dtype incompatible with int64, please explicitly cast to a compatible dtype first.\n",
      "  df.loc[h, 'color'] = str(interpolate_color(df['Seats'].min(), df['Seats'].max(), (255,255,0), (255,0,0), df.loc[h, 'Seats']))\n"
     ]
    },
    {
     "name": "stdout",
     "output_type": "stream",
     "text": [
      "2/3/260\r"
     ]
    },
    {
     "name": "stderr",
     "output_type": "stream",
     "text": [
      "C:\\Users\\thijs\\AppData\\Local\\Temp\\ipykernel_48224\\1554572862.py:36: FutureWarning: Setting an item of incompatible dtype is deprecated and will raise an error in a future version of pandas. Value '[1.0, 1.0, 0.0]' has dtype incompatible with int64, please explicitly cast to a compatible dtype first.\n",
      "  df.loc[h, 'color'] = str(interpolate_color(df['Seats'].min(), df['Seats'].max(), (255,255,0), (255,0,0), df.loc[h, 'Seats']))\n"
     ]
    },
    {
     "name": "stdout",
     "output_type": "stream",
     "text": [
      "392/392\r"
     ]
    },
    {
     "name": "stderr",
     "output_type": "stream",
     "text": [
      "C:\\Users\\thijs\\AppData\\Local\\Temp\\ipykernel_48224\\1554572862.py:36: FutureWarning: Setting an item of incompatible dtype is deprecated and will raise an error in a future version of pandas. Value '[1.0, 1.0, 0.0]' has dtype incompatible with int64, please explicitly cast to a compatible dtype first.\n",
      "  df.loc[h, 'color'] = str(interpolate_color(df['Seats'].min(), df['Seats'].max(), (255,255,0), (255,0,0), df.loc[h, 'Seats']))\n"
     ]
    },
    {
     "name": "stdout",
     "output_type": "stream",
     "text": [
      "425/425\r"
     ]
    },
    {
     "name": "stderr",
     "output_type": "stream",
     "text": [
      "C:\\Users\\thijs\\AppData\\Local\\Temp\\ipykernel_48224\\1554572862.py:36: FutureWarning: Setting an item of incompatible dtype is deprecated and will raise an error in a future version of pandas. Value '[1.0, 1.0, 0.0]' has dtype incompatible with int64, please explicitly cast to a compatible dtype first.\n",
      "  df.loc[h, 'color'] = str(interpolate_color(df['Seats'].min(), df['Seats'].max(), (255,255,0), (255,0,0), df.loc[h, 'Seats']))\n"
     ]
    },
    {
     "name": "stdout",
     "output_type": "stream",
     "text": [
      "2/3/248\r"
     ]
    },
    {
     "name": "stderr",
     "output_type": "stream",
     "text": [
      "C:\\Users\\thijs\\AppData\\Local\\Temp\\ipykernel_48224\\1554572862.py:36: FutureWarning: Setting an item of incompatible dtype is deprecated and will raise an error in a future version of pandas. Value '[1.0, 1.0, 0.0]' has dtype incompatible with int64, please explicitly cast to a compatible dtype first.\n",
      "  df.loc[h, 'color'] = str(interpolate_color(df['Seats'].min(), df['Seats'].max(), (255,255,0), (255,0,0), df.loc[h, 'Seats']))\n"
     ]
    },
    {
     "name": "stdout",
     "output_type": "stream",
     "text": [
      "392/392\r"
     ]
    },
    {
     "name": "stderr",
     "output_type": "stream",
     "text": [
      "C:\\Users\\thijs\\AppData\\Local\\Temp\\ipykernel_48224\\1554572862.py:36: FutureWarning: Setting an item of incompatible dtype is deprecated and will raise an error in a future version of pandas. Value '[1.0, 1.0, 0.0]' has dtype incompatible with int64, please explicitly cast to a compatible dtype first.\n",
      "  df.loc[h, 'color'] = str(interpolate_color(df['Seats'].min(), df['Seats'].max(), (255,255,0), (255,0,0), df.loc[h, 'Seats']))\n"
     ]
    },
    {
     "name": "stdout",
     "output_type": "stream",
     "text": [
      "6/8/423\r"
     ]
    },
    {
     "name": "stderr",
     "output_type": "stream",
     "text": [
      "C:\\Users\\thijs\\AppData\\Local\\Temp\\ipykernel_48224\\1554572862.py:36: FutureWarning: Setting an item of incompatible dtype is deprecated and will raise an error in a future version of pandas. Value '[1.0, 1.0, 0.0]' has dtype incompatible with int64, please explicitly cast to a compatible dtype first.\n",
      "  df.loc[h, 'color'] = str(interpolate_color(df['Seats'].min(), df['Seats'].max(), (255,255,0), (255,0,0), df.loc[h, 'Seats']))\n"
     ]
    },
    {
     "name": "stdout",
     "output_type": "stream",
     "text": [
      "2/3/266\r"
     ]
    },
    {
     "name": "stderr",
     "output_type": "stream",
     "text": [
      "C:\\Users\\thijs\\AppData\\Local\\Temp\\ipykernel_48224\\1554572862.py:36: FutureWarning: Setting an item of incompatible dtype is deprecated and will raise an error in a future version of pandas. Value '[1.0, 1.0, 0.0]' has dtype incompatible with int64, please explicitly cast to a compatible dtype first.\n",
      "  df.loc[h, 'color'] = str(interpolate_color(df['Seats'].min(), df['Seats'].max(), (255,255,0), (255,0,0), df.loc[h, 'Seats']))\n"
     ]
    },
    {
     "name": "stdout",
     "output_type": "stream",
     "text": [
      "401/401\r"
     ]
    },
    {
     "name": "stderr",
     "output_type": "stream",
     "text": [
      "C:\\Users\\thijs\\AppData\\Local\\Temp\\ipykernel_48224\\1554572862.py:36: FutureWarning: Setting an item of incompatible dtype is deprecated and will raise an error in a future version of pandas. Value '[1.0, 1.0, 0.0]' has dtype incompatible with int64, please explicitly cast to a compatible dtype first.\n",
      "  df.loc[h, 'color'] = str(interpolate_color(df['Seats'].min(), df['Seats'].max(), (255,255,0), (255,0,0), df.loc[h, 'Seats']))\n"
     ]
    },
    {
     "name": "stdout",
     "output_type": "stream",
     "text": [
      "7/8/427\r"
     ]
    },
    {
     "name": "stderr",
     "output_type": "stream",
     "text": [
      "C:\\Users\\thijs\\AppData\\Local\\Temp\\ipykernel_48224\\1554572862.py:36: FutureWarning: Setting an item of incompatible dtype is deprecated and will raise an error in a future version of pandas. Value '[1.0, 1.0, 0.0]' has dtype incompatible with int64, please explicitly cast to a compatible dtype first.\n",
      "  df.loc[h, 'color'] = str(interpolate_color(df['Seats'].min(), df['Seats'].max(), (255,255,0), (255,0,0), df.loc[h, 'Seats']))\n"
     ]
    },
    {
     "name": "stdout",
     "output_type": "stream",
     "text": [
      "259/259\r"
     ]
    },
    {
     "name": "stderr",
     "output_type": "stream",
     "text": [
      "C:\\Users\\thijs\\AppData\\Local\\Temp\\ipykernel_48224\\1554572862.py:36: FutureWarning: Setting an item of incompatible dtype is deprecated and will raise an error in a future version of pandas. Value '[1.0, 1.0, 0.0]' has dtype incompatible with int64, please explicitly cast to a compatible dtype first.\n",
      "  df.loc[h, 'color'] = str(interpolate_color(df['Seats'].min(), df['Seats'].max(), (255,255,0), (255,0,0), df.loc[h, 'Seats']))\n"
     ]
    },
    {
     "name": "stdout",
     "output_type": "stream",
     "text": [
      "3/3/358\r"
     ]
    },
    {
     "name": "stderr",
     "output_type": "stream",
     "text": [
      "C:\\Users\\thijs\\AppData\\Local\\Temp\\ipykernel_48224\\1554572862.py:36: FutureWarning: Setting an item of incompatible dtype is deprecated and will raise an error in a future version of pandas. Value '[1.0, 1.0, 0.0]' has dtype incompatible with int64, please explicitly cast to a compatible dtype first.\n",
      "  df.loc[h, 'color'] = str(interpolate_color(df['Seats'].min(), df['Seats'].max(), (255,255,0), (255,0,0), df.loc[h, 'Seats']))\n"
     ]
    },
    {
     "name": "stdout",
     "output_type": "stream",
     "text": [
      "8/8/405\r"
     ]
    },
    {
     "name": "stderr",
     "output_type": "stream",
     "text": [
      "C:\\Users\\thijs\\AppData\\Local\\Temp\\ipykernel_48224\\1554572862.py:36: FutureWarning: Setting an item of incompatible dtype is deprecated and will raise an error in a future version of pandas. Value '[1.0, 1.0, 0.0]' has dtype incompatible with int64, please explicitly cast to a compatible dtype first.\n",
      "  df.loc[h, 'color'] = str(interpolate_color(df['Seats'].min(), df['Seats'].max(), (255,255,0), (255,0,0), df.loc[h, 'Seats']))\n"
     ]
    },
    {
     "name": "stdout",
     "output_type": "stream",
     "text": [
      "2/3/257\r"
     ]
    },
    {
     "name": "stderr",
     "output_type": "stream",
     "text": [
      "C:\\Users\\thijs\\AppData\\Local\\Temp\\ipykernel_48224\\1554572862.py:36: FutureWarning: Setting an item of incompatible dtype is deprecated and will raise an error in a future version of pandas. Value '[1.0, 1.0, 0.0]' has dtype incompatible with int64, please explicitly cast to a compatible dtype first.\n",
      "  df.loc[h, 'color'] = str(interpolate_color(df['Seats'].min(), df['Seats'].max(), (255,255,0), (255,0,0), df.loc[h, 'Seats']))\n"
     ]
    },
    {
     "name": "stdout",
     "output_type": "stream",
     "text": [
      "372/372\r"
     ]
    },
    {
     "name": "stderr",
     "output_type": "stream",
     "text": [
      "C:\\Users\\thijs\\AppData\\Local\\Temp\\ipykernel_48224\\1554572862.py:36: FutureWarning: Setting an item of incompatible dtype is deprecated and will raise an error in a future version of pandas. Value '[1.0, 1.0, 0.0]' has dtype incompatible with int64, please explicitly cast to a compatible dtype first.\n",
      "  df.loc[h, 'color'] = str(interpolate_color(df['Seats'].min(), df['Seats'].max(), (255,255,0), (255,0,0), df.loc[h, 'Seats']))\n"
     ]
    },
    {
     "name": "stdout",
     "output_type": "stream",
     "text": [
      "405/405\r"
     ]
    },
    {
     "name": "stderr",
     "output_type": "stream",
     "text": [
      "C:\\Users\\thijs\\AppData\\Local\\Temp\\ipykernel_48224\\1554572862.py:36: FutureWarning: Setting an item of incompatible dtype is deprecated and will raise an error in a future version of pandas. Value '[1.0, 1.0, 0.0]' has dtype incompatible with int64, please explicitly cast to a compatible dtype first.\n",
      "  df.loc[h, 'color'] = str(interpolate_color(df['Seats'].min(), df['Seats'].max(), (255,255,0), (255,0,0), df.loc[h, 'Seats']))\n"
     ]
    }
   ],
   "source": [
    "# elke dag, elke week van elke vervoerder samen allemaal dezelfde scale intercity, sprinter & allebei\n",
    "# hele week per vervoerder allemaal andere scale intercity, sprinter & allebei\n",
    "intercities = [1000, 1100, 11400, 11600, 11700, 12600, 1400, 1500, 600, 1700, 17900, 1800, 200, 2000, 2100, 21400, 21500, 2200, 22200, 22400, 2300, 23400, 240, 2400, 24400, 2600, 2800, 2900, 3000, 3100, 3200, 3500, 3600, 32790, 3700, 37300, 37900, 3900, 4500, 500, 600, 700, 800, 900, 9200]\n",
    "sprinters = [13300, 13800, 14300, 14900, 15400, 16400, 17800, 18900, 20100, 20200, 25400, 30400, 30700, 30800, 30900, 31000, 31100, 31200, 31300, 31400, 32000, 32200, 32300, 32400, 32500, 32700, 3300, 36900, 37000, 37100, 37200, 37400, 37500, 37600, 37700, 37800, 3800, 38000, 4000, 4300, 4400, 4600, 4800, 4900, 5000, 5100, 5200, 5400, 5500, 5600, 5700, 5800, 5900, 6000, 6100, 6200, 6300, 6400, 6600, 6700, 6800, 6900, 7000, 7100, 7200, 7300, 7400, 7500, 7600, 7900, 8000, 8100, 8500, 8600, 8700, 8800, 8900, 9000]\n",
    "dates = [['2024-10-07', '2024-10-08', '2024-10-09', '2024-10-10', '2024-10-11', '2024-10-12', '2024-10-13'],['2024-10-07'], ['2024-10-08'], ['2024-10-09'], ['2024-10-10'], ['2024-10-11'], ['2024-10-12'], ['2024-10-13']]\n",
    "trainoptions = ['intercities', 'sprinters', 'all']\n",
    "\n",
    "intercities_plus_one = [x + 1 for x in intercities] \n",
    "intercities = intercities + intercities_plus_one       \n",
    "sprinters_plus_one = [x + 1 for x in sprinters] \n",
    "sprinters = sprinters + sprinters_plus_one  \n",
    "\n",
    "\n",
    "for i in range(len(dates)):\n",
    "    print(f'{i+1}/{len(dates)}', end=\"\\r\")\n",
    "    TravelData = all_operators\n",
    "    datestoinclude = dates[i]\n",
    "    df_filtered = TravelData[TravelData['OperatingDay'].isin(datestoinclude)]\n",
    "    TravelData = df_filtered.reset_index(drop=True)\n",
    "    SortedSeats = seat_sorter('TrainServices.csv',TravelData)\n",
    "    for q, j in enumerate(trainoptions):\n",
    "        print(f'{q+1}/{len(trainoptions)}', end=\"\\r\")\n",
    "        if j == 'intercities':\n",
    "            SortedSeats1 = {k: v for k, v in SortedSeats.items() if k in intercities}\n",
    "        if j == 'sprinters':\n",
    "            SortedSeats1 = {k: v for k, v in SortedSeats.items() if k in sprinters}\n",
    "        elif j == 'all':\n",
    "            SortedSeats1 = SortedSeats\n",
    "        SeatsPerTrajectory = seats_per_trajectory(SortedSeats1)\n",
    "        df = geometry_adder(SeatsPerTrajectory)\n",
    "        #volgorde zo aanpassen dat de hogere waardes altijd later worden geplot en dus over de lagere waardes heen plotten\n",
    "        df = df.sort_values(by='Seats', ascending=True).reset_index()\n",
    "        # kleuren assignen en toevoegen aan de geopanda\n",
    "        df['color'] = '0'\n",
    "        for h in range(len(df)):\n",
    "            df.loc[h, 'color'] = str(interpolate_color(df['Seats'].min(), df['Seats'].max(), (255,255,0), (255,0,0), df.loc[h, 'Seats']))\n",
    "        if len(dates[i]) > 2:\n",
    "            df.to_csv(f'PlotDataWeek{trainoptions[q]}.csv')\n",
    "        else:\n",
    "            df.to_csv(f'PlotData{dates[i][0]}{trainoptions[q]}.csv')\n",
    "        \n",
    "    \n",
    "    \n",
    "    "
   ]
  },
  {
   "cell_type": "code",
   "execution_count": 33,
   "metadata": {},
   "outputs": [
    {
     "name": "stdout",
     "output_type": "stream",
     "text": [
      "9/10\r"
     ]
    },
    {
     "name": "stderr",
     "output_type": "stream",
     "text": [
      "C:\\Users\\thijs\\AppData\\Local\\Temp\\ipykernel_48224\\29126510.py:36: FutureWarning: Setting an item of incompatible dtype is deprecated and will raise an error in a future version of pandas. Value '[1.0, 1.0, 0.0]' has dtype incompatible with int64, please explicitly cast to a compatible dtype first.\n",
      "  df.loc[h, 'color'] = str(interpolate_color(df['Seats'].min(), df['Seats'].max(), (255,255,0), (255,0,0), df.loc[h, 'Seats']))\n"
     ]
    },
    {
     "name": "stdout",
     "output_type": "stream",
     "text": [
      "19/19\r"
     ]
    },
    {
     "name": "stderr",
     "output_type": "stream",
     "text": [
      "C:\\Users\\thijs\\AppData\\Local\\Temp\\ipykernel_48224\\29126510.py:36: FutureWarning: Setting an item of incompatible dtype is deprecated and will raise an error in a future version of pandas. Value '[1.0, 1.0, 0.0]' has dtype incompatible with int64, please explicitly cast to a compatible dtype first.\n",
      "  df.loc[h, 'color'] = str(interpolate_color(df['Seats'].min(), df['Seats'].max(), (255,255,0), (255,0,0), df.loc[h, 'Seats']))\n"
     ]
    },
    {
     "name": "stdout",
     "output_type": "stream",
     "text": [
      "2/419\r"
     ]
    },
    {
     "name": "stderr",
     "output_type": "stream",
     "text": [
      "C:\\Users\\thijs\\AppData\\Local\\Temp\\ipykernel_48224\\29126510.py:36: FutureWarning: Setting an item of incompatible dtype is deprecated and will raise an error in a future version of pandas. Value '[1.0, 1.0, 0.0]' has dtype incompatible with int64, please explicitly cast to a compatible dtype first.\n",
      "  df.loc[h, 'color'] = str(interpolate_color(df['Seats'].min(), df['Seats'].max(), (255,255,0), (255,0,0), df.loc[h, 'Seats']))\n"
     ]
    },
    {
     "name": "stdout",
     "output_type": "stream",
     "text": [
      "2/315\r"
     ]
    },
    {
     "name": "stderr",
     "output_type": "stream",
     "text": [
      "C:\\Users\\thijs\\AppData\\Local\\Temp\\ipykernel_48224\\29126510.py:36: FutureWarning: Setting an item of incompatible dtype is deprecated and will raise an error in a future version of pandas. Value '[1.0, 1.0, 0.0]' has dtype incompatible with int64, please explicitly cast to a compatible dtype first.\n",
      "  df.loc[h, 'color'] = str(interpolate_color(df['Seats'].min(), df['Seats'].max(), (255,255,0), (255,0,0), df.loc[h, 'Seats']))\n"
     ]
    },
    {
     "name": "stdout",
     "output_type": "stream",
     "text": [
      "143/143\r"
     ]
    },
    {
     "name": "stderr",
     "output_type": "stream",
     "text": [
      "C:\\Users\\thijs\\AppData\\Local\\Temp\\ipykernel_48224\\29126510.py:36: FutureWarning: Setting an item of incompatible dtype is deprecated and will raise an error in a future version of pandas. Value '[1.0, 1.0, 0.0]' has dtype incompatible with int64, please explicitly cast to a compatible dtype first.\n",
      "  df.loc[h, 'color'] = str(interpolate_color(df['Seats'].min(), df['Seats'].max(), (255,255,0), (255,0,0), df.loc[h, 'Seats']))\n"
     ]
    },
    {
     "name": "stdout",
     "output_type": "stream",
     "text": [
      "143/143\r"
     ]
    },
    {
     "name": "stderr",
     "output_type": "stream",
     "text": [
      "C:\\Users\\thijs\\AppData\\Local\\Temp\\ipykernel_48224\\29126510.py:36: FutureWarning: Setting an item of incompatible dtype is deprecated and will raise an error in a future version of pandas. Value '[1.0, 1.0, 0.0]' has dtype incompatible with int64, please explicitly cast to a compatible dtype first.\n",
      "  df.loc[h, 'color'] = str(interpolate_color(df['Seats'].min(), df['Seats'].max(), (255,255,0), (255,0,0), df.loc[h, 'Seats']))\n"
     ]
    },
    {
     "name": "stdout",
     "output_type": "stream",
     "text": [
      "256/256\r"
     ]
    },
    {
     "name": "stderr",
     "output_type": "stream",
     "text": [
      "C:\\Users\\thijs\\AppData\\Local\\Temp\\ipykernel_48224\\29126510.py:36: FutureWarning: Setting an item of incompatible dtype is deprecated and will raise an error in a future version of pandas. Value '[1.0, 1.0, 0.0]' has dtype incompatible with int64, please explicitly cast to a compatible dtype first.\n",
      "  df.loc[h, 'color'] = str(interpolate_color(df['Seats'].min(), df['Seats'].max(), (255,255,0), (255,0,0), df.loc[h, 'Seats']))\n"
     ]
    },
    {
     "name": "stdout",
     "output_type": "stream",
     "text": [
      "3/3/240\r"
     ]
    },
    {
     "name": "stderr",
     "output_type": "stream",
     "text": [
      "C:\\Users\\thijs\\AppData\\Local\\Temp\\ipykernel_48224\\29126510.py:36: FutureWarning: Setting an item of incompatible dtype is deprecated and will raise an error in a future version of pandas. Value '[1.0, 1.0, 0.0]' has dtype incompatible with int64, please explicitly cast to a compatible dtype first.\n",
      "  df.loc[h, 'color'] = str(interpolate_color(df['Seats'].min(), df['Seats'].max(), (255,255,0), (255,0,0), df.loc[h, 'Seats']))\n"
     ]
    },
    {
     "name": "stdout",
     "output_type": "stream",
     "text": [
      "4/4/282\r"
     ]
    },
    {
     "name": "stderr",
     "output_type": "stream",
     "text": [
      "C:\\Users\\thijs\\AppData\\Local\\Temp\\ipykernel_48224\\29126510.py:36: FutureWarning: Setting an item of incompatible dtype is deprecated and will raise an error in a future version of pandas. Value '[1.0, 1.0, 0.0]' has dtype incompatible with int64, please explicitly cast to a compatible dtype first.\n",
      "  df.loc[h, 'color'] = str(interpolate_color(df['Seats'].min(), df['Seats'].max(), (255,255,0), (255,0,0), df.loc[h, 'Seats']))\n"
     ]
    },
    {
     "name": "stdout",
     "output_type": "stream",
     "text": [
      "7/11\r"
     ]
    },
    {
     "name": "stderr",
     "output_type": "stream",
     "text": [
      "C:\\Users\\thijs\\AppData\\Local\\Temp\\ipykernel_48224\\29126510.py:36: FutureWarning: Setting an item of incompatible dtype is deprecated and will raise an error in a future version of pandas. Value '[1.0, 1.0, 0.0]' has dtype incompatible with int64, please explicitly cast to a compatible dtype first.\n",
      "  df.loc[h, 'color'] = str(interpolate_color(df['Seats'].min(), df['Seats'].max(), (255,255,0), (255,0,0), df.loc[h, 'Seats']))\n"
     ]
    },
    {
     "name": "stdout",
     "output_type": "stream",
     "text": [
      "11/11\r"
     ]
    },
    {
     "name": "stderr",
     "output_type": "stream",
     "text": [
      "C:\\Users\\thijs\\AppData\\Local\\Temp\\ipykernel_48224\\29126510.py:36: FutureWarning: Setting an item of incompatible dtype is deprecated and will raise an error in a future version of pandas. Value '[1.0, 1.0, 0.0]' has dtype incompatible with int64, please explicitly cast to a compatible dtype first.\n",
      "  df.loc[h, 'color'] = str(interpolate_color(df['Seats'].min(), df['Seats'].max(), (255,255,0), (255,0,0), df.loc[h, 'Seats']))\n"
     ]
    }
   ],
   "source": [
    "# elke dag, elke week van elke vervoerder samen allemaal dezelfde scale intercity, sprinter & allebei\n",
    "# hele week per vervoerder allemaal andere scale intercity, sprinter & allebei\n",
    "intercities = [1000, 1100, 11400, 11600, 11700, 12600, 1400, 1500, 600, 1700, 17900, 1800, 200, 2000, 2100, 21400, 21500, 2200, 22200, 22400, 2300, 23400, 240, 2400, 24400, 2600, 2800, 2900, 3000, 3100, 3200, 3500, 3600, 32790, 3700, 37300, 37900, 3900, 4500, 500, 600, 700, 800, 900, 9200]\n",
    "sprinters = [13300, 13800, 14300, 14900, 15400, 16400, 17800, 18900, 20100, 20200, 25400, 30400, 30700, 30800, 30900, 31000, 31100, 31200, 31300, 31400, 32000, 32200, 32300, 32400, 32500, 32700, 3300, 36900, 37000, 37100, 37200, 37400, 37500, 37600, 37700, 37800, 3800, 38000, 4000, 4300, 4400, 4600, 4800, 4900, 5000, 5100, 5200, 5400, 5500, 5600, 5700, 5800, 5900, 6000, 6100, 6200, 6300, 6400, 6600, 6700, 6800, 6900, 7000, 7100, 7200, 7300, 7400, 7500, 7600, 7900, 8000, 8100, 8500, 8600, 8700, 8800, 8900, 9000]\n",
    "vehicle_type_seats = {\"VIRM\": 100, \"DDZ\": 100, \"FLIRT FFF\": 53, \"ICM\": 75,\n",
    "                      \"ICNG25\": 52, \"SLT\": 54, \"SNG\": 50, \"SW7-25KV\": 48,\n",
    "                      \"SW9-25KV\": 48, \"GTW\": 45, \"Flirt\": 57, \"FLIRT\": 57,\n",
    "                      \"Lint\": 65, \"WINK\": 153}\n",
    "dates = [['2024-10-07', '2024-10-08', '2024-10-09', '2024-10-10', '2024-10-11', '2024-10-12', '2024-10-13']]\n",
    "trainoptions = ['intercities', 'sprinters', 'all']\n",
    "\n",
    "intercities_plus_one = [x + 1 for x in intercities] \n",
    "intercities = intercities + intercities_plus_one       \n",
    "sprinters_plus_one = [x + 1 for x in sprinters] \n",
    "sprinters = sprinters + sprinters_plus_one  \n",
    "operators = ['Keolis', 'Arriva', 'NS', 'Qbuzz']\n",
    "\n",
    "for i in range(len(operators)):\n",
    "    print(f'{i+1}/{len(operators)}', end=\"\\r\")\n",
    "    TravelData = pd.read_csv(f'TravelData{operators[i]}.csv')\n",
    "    datestoinclude = ['2024-10-07', '2024-10-08', '2024-10-09', '2024-10-10', '2024-10-11', '2024-10-12', '2024-10-13']\n",
    "    df_filtered = TravelData[TravelData['OperatingDay'].isin(datestoinclude)]\n",
    "    TravelData = df_filtered.reset_index(drop=True)\n",
    "    SortedSeats = seat_sorter('TrainServices.csv',TravelData)\n",
    "    for q, j in enumerate(trainoptions):\n",
    "        print(f'{q+1}/{len(trainoptions)}', end=\"\\r\")\n",
    "        if j == 'intercities':\n",
    "            SortedSeats1 = {k: v for k, v in SortedSeats.items() if k in intercities}\n",
    "        if j == 'sprinters':\n",
    "            SortedSeats1 = {k: v for k, v in SortedSeats.items() if k in sprinters}\n",
    "        elif j == 'all':\n",
    "            SortedSeats1 = SortedSeats\n",
    "        SeatsPerTrajectory = seats_per_trajectory(SortedSeats1)\n",
    "        df = geometry_adder(SeatsPerTrajectory)\n",
    "        #volgorde zo aanpassen dat de hogere waardes altijd later worden geplot en dus over de lagere waardes heen plotten\n",
    "        df = df.sort_values(by='Seats', ascending=True).reset_index()\n",
    "        # kleuren assignen en toevoegen aan de geopanda\n",
    "        df['color'] = '0'\n",
    "        for h in range(len(df)):\n",
    "            df.loc[h, 'color'] = str(interpolate_color(df['Seats'].min(), df['Seats'].max(), (255,255,0), (255,0,0), df.loc[h, 'Seats']))\n",
    "        df.to_csv(f'PlotDataWeek{operators[i]}{trainoptions[q]}.csv')\n",
    "    \n",
    "        \n",
    "    \n",
    "    \n",
    "    "
   ]
  },
  {
   "cell_type": "code",
   "execution_count": null,
   "metadata": {},
   "outputs": [],
   "source": []
  }
 ],
 "metadata": {
  "kernelspec": {
   "display_name": "TIL6022",
   "language": "python",
   "name": "python3"
  },
  "language_info": {
   "codemirror_mode": {
    "name": "ipython",
    "version": 3
   },
   "file_extension": ".py",
   "mimetype": "text/x-python",
   "name": "python",
   "nbconvert_exporter": "python",
   "pygments_lexer": "ipython3",
   "version": "3.12.5"
  }
 },
 "nbformat": 4,
 "nbformat_minor": 2
}
