{
 "cells": [
  {
   "cell_type": "code",
   "execution_count": 2,
   "metadata": {},
   "outputs": [],
   "source": [
    "import pandas as pd\n"
   ]
  },
  {
   "cell_type": "code",
   "execution_count": 9,
   "metadata": {},
   "outputs": [],
   "source": [
    "Intercitys = pd.read_csv('Intercitys.csv', delimiter = ';')\n",
    "display(Intercitys)\n",
    "Intercitys = Intercitys.head(3)\n",
    "display(Intercitys)"
   ]
  },
  {
   "cell_type": "code",
   "execution_count": 20,
   "metadata": {},
   "outputs": [],
   "source": [
    "Intercitys.loc[0,'Code']\n",
    "Intercitys.loc[0,'String'].split(',')\n"
   ]
  },
  {
   "cell_type": "code",
   "execution_count": 39,
   "metadata": {},
   "outputs": [],
   "source": [
    "dataframes_dict = {}\n",
    "TrainServices = Intercitys.head(3)\n",
    "\n",
    "for i in range(len(TrainServices)):\n",
    "    a = TrainServices.loc[i,'String'].split(',')\n",
    "    df = pd.DataFrame({'From':[],'To':[],'Seats':[]})\n",
    "    for j in range(len(a) - 1):\n",
    "        df.loc[j, 'From'] = a[j]\n",
    "        df.loc[j, 'To'] = a[j + 1]\n",
    "    dataframes_dict[TrainServices.loc[i,'Code']] = df\n",
    "\n",
    "print(dataframes_dict)"
   ]
  },
  {
   "cell_type": "code",
   "execution_count": 36,
   "metadata": {},
   "outputs": [
    {
     "name": "stdout",
     "output_type": "stream",
     "text": [
      "    From    To  Seats\n",
      "0    Asd   Ass    NaN\n",
      "1    Ass  Asdl    NaN\n",
      "2   Asdl   Shl    NaN\n",
      "3    Shl   Hfd    NaN\n",
      "4    Hfd   Rtd    NaN\n",
      "5    Rtd   Rtb    NaN\n",
      "6    Rtb   Rtz    NaN\n",
      "7    Rtz  Rtst    NaN\n",
      "8   Rtst   Rlb    NaN\n",
      "9    Rlb  Bdpb    NaN\n",
      "10  Bdpb    Bd    NaN\n"
     ]
    }
   ],
   "source": [
    "print(dataframes_dict[900])"
   ]
  },
  {
   "cell_type": "code",
   "execution_count": null,
   "metadata": {},
   "outputs": [],
   "source": [
    "for i in range(len(TravelData)):\n",
    "    a = TravelData.loc[i, 'JourneyNumber']//100\n",
    "    b = dataframes_dict[a]\n",
    "    c = 0\n",
    "    for j in range(len(b)):\n",
    "        if TravelData.loc[i, 'UserStopCodeBegin'] == b.loc[j, 'From']:\n",
    "            c = 1\n",
    "        if c == 1:\n",
    "            b.loc[j, 'Seats'] = TravelData.loc[i, 'Seats']\n",
    "        if TravelData.loc[i, 'UserStopCodeEnd'] == b.loc[j, 'To']:\n",
    "            break"
   ]
  }
 ],
 "metadata": {
  "kernelspec": {
   "display_name": "TIL6022",
   "language": "python",
   "name": "python3"
  },
  "language_info": {
   "codemirror_mode": {
    "name": "ipython",
    "version": 3
   },
   "file_extension": ".py",
   "mimetype": "text/x-python",
   "name": "python",
   "nbconvert_exporter": "python",
   "pygments_lexer": "ipython3",
   "version": "3.12.5"
  }
 },
 "nbformat": 4,
 "nbformat_minor": 2
}
